{
 "cells": [
  {
   "cell_type": "markdown",
   "id": "2a465a09-c2d1-45af-9b81-cb645d4174c0",
   "metadata": {},
   "source": [
    "# Pokemòn"
   ]
  },
  {
   "cell_type": "markdown",
   "id": "8ecd36b1-227c-41ed-bace-b3f9cd3ca91a",
   "metadata": {},
   "source": [
    "## Imports"
   ]
  },
  {
   "cell_type": "code",
   "execution_count": 85,
   "id": "e499925a-52e6-4ebf-966a-473105db3947",
   "metadata": {},
   "outputs": [],
   "source": [
    "import pandas as pd\n",
    "from tkinter import Grid\n",
    "from sklearn.model_selection import train_test_split, GridSearchCV\n",
    "from sklearn.pipeline import make_pipeline\n",
    "from sklearn.preprocessing import StandardScaler\n",
    "from sklearn.ensemble import RandomForestClassifier, GradientBoostingClassifier, VotingClassifier, AdaBoostClassifier, ExtraTreesClassifier, BaggingClassifier, StackingClassifier\n",
    "from matplotlib import pyplot as plt \n",
    "import seaborn as sns\n",
    "from sklearn.metrics import accuracy_score, precision_score, recall_score\n",
    "import missingno as msno\n",
    "from pandas_profiling import ProfileReport\n",
    "import pickle\n",
    "from sklearn.linear_model import Lasso, Ridge\n",
    "import xgboost as xgb\n",
    "import lightgbm as lgb\n",
    "from catboost import CatBoostClassifier\n",
    "import time"
   ]
  },
  {
   "cell_type": "markdown",
   "id": "06893bff-e57a-4dd9-b292-923c10367946",
   "metadata": {},
   "source": [
    "## Import Data"
   ]
  },
  {
   "cell_type": "code",
   "execution_count": 5,
   "id": "8b122f15-49cd-4429-b78d-54ee43f72bf9",
   "metadata": {},
   "outputs": [],
   "source": [
    "pokemon = pd.read_csv('pokemon.csv')\n",
    "combats = pd.read_csv('combats.csv')"
   ]
  },
  {
   "cell_type": "markdown",
   "id": "d8166ba7-845a-4381-a4e0-d1a240136e7a",
   "metadata": {},
   "source": [
    "## Basic EDA"
   ]
  },
  {
   "cell_type": "markdown",
   "id": "99d7d43c-230e-45d3-a967-03940050188b",
   "metadata": {
    "tags": []
   },
   "source": [
    "### Pokemon EDA\n",
    "Reference table for all Pokemon"
   ]
  },
  {
   "cell_type": "code",
   "execution_count": 6,
   "id": "70d33ec0-744e-4953-9d9d-18b3e5fd6fcf",
   "metadata": {
    "tags": []
   },
   "outputs": [
    {
     "data": {
      "text/html": [
       "<div>\n",
       "<style scoped>\n",
       "    .dataframe tbody tr th:only-of-type {\n",
       "        vertical-align: middle;\n",
       "    }\n",
       "\n",
       "    .dataframe tbody tr th {\n",
       "        vertical-align: top;\n",
       "    }\n",
       "\n",
       "    .dataframe thead th {\n",
       "        text-align: right;\n",
       "    }\n",
       "</style>\n",
       "<table border=\"1\" class=\"dataframe\">\n",
       "  <thead>\n",
       "    <tr style=\"text-align: right;\">\n",
       "      <th></th>\n",
       "      <th>#</th>\n",
       "      <th>Name</th>\n",
       "      <th>Type 1</th>\n",
       "      <th>Type 2</th>\n",
       "      <th>HP</th>\n",
       "      <th>Attack</th>\n",
       "      <th>Defense</th>\n",
       "      <th>Sp. Atk</th>\n",
       "      <th>Sp. Def</th>\n",
       "      <th>Speed</th>\n",
       "      <th>Generation</th>\n",
       "      <th>Legendary</th>\n",
       "    </tr>\n",
       "  </thead>\n",
       "  <tbody>\n",
       "    <tr>\n",
       "      <th>0</th>\n",
       "      <td>1</td>\n",
       "      <td>Bulbasaur</td>\n",
       "      <td>Grass</td>\n",
       "      <td>Poison</td>\n",
       "      <td>45</td>\n",
       "      <td>49</td>\n",
       "      <td>49</td>\n",
       "      <td>65</td>\n",
       "      <td>65</td>\n",
       "      <td>45</td>\n",
       "      <td>1</td>\n",
       "      <td>False</td>\n",
       "    </tr>\n",
       "    <tr>\n",
       "      <th>1</th>\n",
       "      <td>2</td>\n",
       "      <td>Ivysaur</td>\n",
       "      <td>Grass</td>\n",
       "      <td>Poison</td>\n",
       "      <td>60</td>\n",
       "      <td>62</td>\n",
       "      <td>63</td>\n",
       "      <td>80</td>\n",
       "      <td>80</td>\n",
       "      <td>60</td>\n",
       "      <td>1</td>\n",
       "      <td>False</td>\n",
       "    </tr>\n",
       "    <tr>\n",
       "      <th>2</th>\n",
       "      <td>3</td>\n",
       "      <td>Venusaur</td>\n",
       "      <td>Grass</td>\n",
       "      <td>Poison</td>\n",
       "      <td>80</td>\n",
       "      <td>82</td>\n",
       "      <td>83</td>\n",
       "      <td>100</td>\n",
       "      <td>100</td>\n",
       "      <td>80</td>\n",
       "      <td>1</td>\n",
       "      <td>False</td>\n",
       "    </tr>\n",
       "    <tr>\n",
       "      <th>3</th>\n",
       "      <td>4</td>\n",
       "      <td>Mega Venusaur</td>\n",
       "      <td>Grass</td>\n",
       "      <td>Poison</td>\n",
       "      <td>80</td>\n",
       "      <td>100</td>\n",
       "      <td>123</td>\n",
       "      <td>122</td>\n",
       "      <td>120</td>\n",
       "      <td>80</td>\n",
       "      <td>1</td>\n",
       "      <td>False</td>\n",
       "    </tr>\n",
       "    <tr>\n",
       "      <th>4</th>\n",
       "      <td>5</td>\n",
       "      <td>Charmander</td>\n",
       "      <td>Fire</td>\n",
       "      <td>NaN</td>\n",
       "      <td>39</td>\n",
       "      <td>52</td>\n",
       "      <td>43</td>\n",
       "      <td>60</td>\n",
       "      <td>50</td>\n",
       "      <td>65</td>\n",
       "      <td>1</td>\n",
       "      <td>False</td>\n",
       "    </tr>\n",
       "  </tbody>\n",
       "</table>\n",
       "</div>"
      ],
      "text/plain": [
       "   #           Name Type 1  Type 2  HP  Attack  Defense  Sp. Atk  Sp. Def  \\\n",
       "0  1      Bulbasaur  Grass  Poison  45      49       49       65       65   \n",
       "1  2        Ivysaur  Grass  Poison  60      62       63       80       80   \n",
       "2  3       Venusaur  Grass  Poison  80      82       83      100      100   \n",
       "3  4  Mega Venusaur  Grass  Poison  80     100      123      122      120   \n",
       "4  5     Charmander   Fire     NaN  39      52       43       60       50   \n",
       "\n",
       "   Speed  Generation  Legendary  \n",
       "0     45           1      False  \n",
       "1     60           1      False  \n",
       "2     80           1      False  \n",
       "3     80           1      False  \n",
       "4     65           1      False  "
      ]
     },
     "execution_count": 6,
     "metadata": {},
     "output_type": "execute_result"
    }
   ],
   "source": [
    "pokemon.head()"
   ]
  },
  {
   "cell_type": "code",
   "execution_count": 7,
   "id": "57937729-58e2-41eb-9a40-22d5b581f6af",
   "metadata": {},
   "outputs": [
    {
     "name": "stdout",
     "output_type": "stream",
     "text": [
      "<class 'pandas.core.frame.DataFrame'>\n",
      "RangeIndex: 800 entries, 0 to 799\n",
      "Data columns (total 12 columns):\n",
      " #   Column      Non-Null Count  Dtype \n",
      "---  ------      --------------  ----- \n",
      " 0   #           800 non-null    int64 \n",
      " 1   Name        800 non-null    object\n",
      " 2   Type 1      800 non-null    object\n",
      " 3   Type 2      414 non-null    object\n",
      " 4   HP          800 non-null    int64 \n",
      " 5   Attack      800 non-null    int64 \n",
      " 6   Defense     800 non-null    int64 \n",
      " 7   Sp. Atk     800 non-null    int64 \n",
      " 8   Sp. Def     800 non-null    int64 \n",
      " 9   Speed       800 non-null    int64 \n",
      " 10  Generation  800 non-null    int64 \n",
      " 11  Legendary   800 non-null    bool  \n",
      "dtypes: bool(1), int64(8), object(3)\n",
      "memory usage: 69.7+ KB\n"
     ]
    }
   ],
   "source": [
    "pokemon.info()"
   ]
  },
  {
   "cell_type": "code",
   "execution_count": null,
   "id": "3245fcb3-b47c-417d-ad48-ddbfda2c8a5a",
   "metadata": {},
   "outputs": [],
   "source": [
    "profile = ProfileReport(pokemon, title='Pokemon')\n",
    "profile.to_notebook_iframe()"
   ]
  },
  {
   "cell_type": "markdown",
   "id": "aa45c07d-c160-4a0d-8cb6-0983f74e7331",
   "metadata": {},
   "source": [
    "### Combats"
   ]
  },
  {
   "cell_type": "code",
   "execution_count": null,
   "id": "620bc501-e5d1-4783-9951-108620ac6926",
   "metadata": {
    "tags": []
   },
   "outputs": [],
   "source": [
    "profile_com = ProfileReport(combats, title='Pokemon Combats')\n",
    "profile_com.to_notebook_iframe()"
   ]
  },
  {
   "cell_type": "code",
   "execution_count": 8,
   "id": "9b646397-01ab-4cea-a4e1-d3c87412f29e",
   "metadata": {},
   "outputs": [],
   "source": [
    "combats['First_pokemon'] = combats['First_pokemon'].astype('int16')\n",
    "combats['Second_pokemon'] = combats['Second_pokemon'].astype('int16')\n",
    "combats['first_wins'] = combats['First_pokemon'] == combats['Winner']\n",
    "# combats['first_wins'] = combats['first_wins'].map({True:1, False:0})\n",
    "# combats['first_wins'] = combats['first_wins'].astype(np.float32)\n",
    "combats['first_wins'] = combats['first_wins'].astype('category')\n",
    "combats = combats.drop('Winner', axis=1)"
   ]
  },
  {
   "cell_type": "code",
   "execution_count": 9,
   "id": "642cacfa-9c43-4d20-a94f-0106ff726c9a",
   "metadata": {},
   "outputs": [
    {
     "name": "stdout",
     "output_type": "stream",
     "text": [
      "<class 'pandas.core.frame.DataFrame'>\n",
      "RangeIndex: 50000 entries, 0 to 49999\n",
      "Data columns (total 3 columns):\n",
      " #   Column          Non-Null Count  Dtype   \n",
      "---  ------          --------------  -----   \n",
      " 0   First_pokemon   50000 non-null  int16   \n",
      " 1   Second_pokemon  50000 non-null  int16   \n",
      " 2   first_wins      50000 non-null  category\n",
      "dtypes: category(1), int16(2)\n",
      "memory usage: 244.4 KB\n"
     ]
    }
   ],
   "source": [
    "combats.info()"
   ]
  },
  {
   "cell_type": "markdown",
   "id": "3d8564df-b57e-4405-a9c2-247f511af9d2",
   "metadata": {},
   "source": [
    "## Impute and Prepare Data"
   ]
  },
  {
   "cell_type": "code",
   "execution_count": 10,
   "id": "f6c59fe3-7884-4ef3-b84b-fff01e8281dc",
   "metadata": {},
   "outputs": [],
   "source": [
    "def prepare_pokemon(poke, encode=True):\n",
    "    poke = poke.drop(['Legendary', 'Name', 'Type 2', 'Generation'], axis=1)\\\n",
    "                .rename(columns={\n",
    "                            'Type 1':'Type',\n",
    "                             'Sp. Atk':'sp_atk',\n",
    "                             'Sp. Def':'sp_def',\n",
    "                             '#':'id'}\n",
    "                       )\n",
    "\n",
    "    poke['HP'] = poke['HP'].astype('int16')\n",
    "    poke['Attack'] = poke['Attack'].astype('int16')\n",
    "    poke['Defense'] = poke['Defense'].astype('int16')\n",
    "    poke['sp_atk'] = poke['sp_atk'].astype('int16')\n",
    "    poke['sp_def'] = poke['sp_def'].astype('int16')\n",
    "    poke['Speed'] = poke['Speed'].astype('int16')\n",
    "    poke['Type'] = poke['Type'].astype('category')\n",
    "    poke['id'] = poke['id'].astype('int16')\n",
    "\n",
    "    if encode:\n",
    "        poke = pd.get_dummies(poke, drop_first=False)\n",
    "    return poke"
   ]
  },
  {
   "cell_type": "code",
   "execution_count": 11,
   "id": "b91cab4f-9423-4466-9f67-e242c12a271f",
   "metadata": {},
   "outputs": [
    {
     "name": "stdout",
     "output_type": "stream",
     "text": [
      "<class 'pandas.core.frame.DataFrame'>\n",
      "RangeIndex: 800 entries, 0 to 799\n",
      "Data columns (total 25 columns):\n",
      " #   Column         Non-Null Count  Dtype\n",
      "---  ------         --------------  -----\n",
      " 0   id             800 non-null    int16\n",
      " 1   HP             800 non-null    int16\n",
      " 2   Attack         800 non-null    int16\n",
      " 3   Defense        800 non-null    int16\n",
      " 4   sp_atk         800 non-null    int16\n",
      " 5   sp_def         800 non-null    int16\n",
      " 6   Speed          800 non-null    int16\n",
      " 7   Type_Bug       800 non-null    uint8\n",
      " 8   Type_Dark      800 non-null    uint8\n",
      " 9   Type_Dragon    800 non-null    uint8\n",
      " 10  Type_Electric  800 non-null    uint8\n",
      " 11  Type_Fairy     800 non-null    uint8\n",
      " 12  Type_Fighting  800 non-null    uint8\n",
      " 13  Type_Fire      800 non-null    uint8\n",
      " 14  Type_Flying    800 non-null    uint8\n",
      " 15  Type_Ghost     800 non-null    uint8\n",
      " 16  Type_Grass     800 non-null    uint8\n",
      " 17  Type_Ground    800 non-null    uint8\n",
      " 18  Type_Ice       800 non-null    uint8\n",
      " 19  Type_Normal    800 non-null    uint8\n",
      " 20  Type_Poison    800 non-null    uint8\n",
      " 21  Type_Psychic   800 non-null    uint8\n",
      " 22  Type_Rock      800 non-null    uint8\n",
      " 23  Type_Steel     800 non-null    uint8\n",
      " 24  Type_Water     800 non-null    uint8\n",
      "dtypes: int16(7), uint8(18)\n",
      "memory usage: 25.1 KB\n"
     ]
    }
   ],
   "source": [
    "pokemon1 = prepare_pokemon(pokemon)\n",
    "pokemon1.info()"
   ]
  },
  {
   "cell_type": "markdown",
   "id": "a262d5a8-0eef-4710-aa7c-89176899048b",
   "metadata": {},
   "source": [
    "## Join data frames together"
   ]
  },
  {
   "cell_type": "code",
   "execution_count": 12,
   "id": "bc197fce-148f-433b-87e5-03eb45caea2b",
   "metadata": {},
   "outputs": [],
   "source": [
    "# Join the combat df to pokemon reference table\n",
    "# Renmed columns afterwards with underscore #\n",
    "df = combats.merge(pokemon1, left_on='First_pokemon', right_on='id')\n",
    "df = df.rename(columns={col:col+'_1' for col in pokemon1.columns})\n",
    "\n",
    "df = df.merge(pokemon1, left_on='Second_pokemon', right_on='id')\n",
    "df = df.rename(columns={col:col+'_2' for col in pokemon1.columns})"
   ]
  },
  {
   "cell_type": "code",
   "execution_count": 13,
   "id": "392a7202-ac5e-49bf-bc24-be36b41f0416",
   "metadata": {},
   "outputs": [],
   "source": [
    "# Drop extra columns from join\n",
    "df = df.drop(['First_pokemon', 'Second_pokemon', 'id_1', 'id_2'], axis=1)"
   ]
  },
  {
   "cell_type": "code",
   "execution_count": 14,
   "id": "3e0a20c8-2ffa-4cdc-9cc7-861d5a1ebb12",
   "metadata": {},
   "outputs": [
    {
     "name": "stdout",
     "output_type": "stream",
     "text": [
      "<class 'pandas.core.frame.DataFrame'>\n",
      "Int64Index: 50000 entries, 0 to 49999\n",
      "Data columns (total 49 columns):\n",
      " #   Column           Non-Null Count  Dtype   \n",
      "---  ------           --------------  -----   \n",
      " 0   first_wins       50000 non-null  category\n",
      " 1   HP_1             50000 non-null  int16   \n",
      " 2   Attack_1         50000 non-null  int16   \n",
      " 3   Defense_1        50000 non-null  int16   \n",
      " 4   sp_atk_1         50000 non-null  int16   \n",
      " 5   sp_def_1         50000 non-null  int16   \n",
      " 6   Speed_1          50000 non-null  int16   \n",
      " 7   Type_Bug_1       50000 non-null  uint8   \n",
      " 8   Type_Dark_1      50000 non-null  uint8   \n",
      " 9   Type_Dragon_1    50000 non-null  uint8   \n",
      " 10  Type_Electric_1  50000 non-null  uint8   \n",
      " 11  Type_Fairy_1     50000 non-null  uint8   \n",
      " 12  Type_Fighting_1  50000 non-null  uint8   \n",
      " 13  Type_Fire_1      50000 non-null  uint8   \n",
      " 14  Type_Flying_1    50000 non-null  uint8   \n",
      " 15  Type_Ghost_1     50000 non-null  uint8   \n",
      " 16  Type_Grass_1     50000 non-null  uint8   \n",
      " 17  Type_Ground_1    50000 non-null  uint8   \n",
      " 18  Type_Ice_1       50000 non-null  uint8   \n",
      " 19  Type_Normal_1    50000 non-null  uint8   \n",
      " 20  Type_Poison_1    50000 non-null  uint8   \n",
      " 21  Type_Psychic_1   50000 non-null  uint8   \n",
      " 22  Type_Rock_1      50000 non-null  uint8   \n",
      " 23  Type_Steel_1     50000 non-null  uint8   \n",
      " 24  Type_Water_1     50000 non-null  uint8   \n",
      " 25  HP_2             50000 non-null  int16   \n",
      " 26  Attack_2         50000 non-null  int16   \n",
      " 27  Defense_2        50000 non-null  int16   \n",
      " 28  sp_atk_2         50000 non-null  int16   \n",
      " 29  sp_def_2         50000 non-null  int16   \n",
      " 30  Speed_2          50000 non-null  int16   \n",
      " 31  Type_Bug_2       50000 non-null  uint8   \n",
      " 32  Type_Dark_2      50000 non-null  uint8   \n",
      " 33  Type_Dragon_2    50000 non-null  uint8   \n",
      " 34  Type_Electric_2  50000 non-null  uint8   \n",
      " 35  Type_Fairy_2     50000 non-null  uint8   \n",
      " 36  Type_Fighting_2  50000 non-null  uint8   \n",
      " 37  Type_Fire_2      50000 non-null  uint8   \n",
      " 38  Type_Flying_2    50000 non-null  uint8   \n",
      " 39  Type_Ghost_2     50000 non-null  uint8   \n",
      " 40  Type_Grass_2     50000 non-null  uint8   \n",
      " 41  Type_Ground_2    50000 non-null  uint8   \n",
      " 42  Type_Ice_2       50000 non-null  uint8   \n",
      " 43  Type_Normal_2    50000 non-null  uint8   \n",
      " 44  Type_Poison_2    50000 non-null  uint8   \n",
      " 45  Type_Psychic_2   50000 non-null  uint8   \n",
      " 46  Type_Rock_2      50000 non-null  uint8   \n",
      " 47  Type_Steel_2     50000 non-null  uint8   \n",
      " 48  Type_Water_2     50000 non-null  uint8   \n",
      "dtypes: category(1), int16(12), uint8(36)\n",
      "memory usage: 3.3 MB\n"
     ]
    }
   ],
   "source": [
    "df.info()"
   ]
  },
  {
   "cell_type": "markdown",
   "id": "afee7273-4fba-48e4-a4fe-09ba07439e64",
   "metadata": {},
   "source": [
    "## Split Data\n"
   ]
  },
  {
   "cell_type": "code",
   "execution_count": 15,
   "id": "dbc34e79-a28b-4401-bc0a-a140927a8bcf",
   "metadata": {
    "tags": []
   },
   "outputs": [],
   "source": [
    "X = df.drop(['first_wins'], axis=1)\n",
    "y = df['first_wins']"
   ]
  },
  {
   "cell_type": "code",
   "execution_count": 16,
   "id": "3716a552-f260-46bd-9e5d-4c19be56089d",
   "metadata": {},
   "outputs": [],
   "source": [
    "X_train, X_test, Y_train, Y_test = train_test_split(X, y, test_size=0.3, random_state=1234)"
   ]
  },
  {
   "cell_type": "code",
   "execution_count": 17,
   "id": "a7052988-00fb-4087-8bd9-be90ec3a8831",
   "metadata": {},
   "outputs": [],
   "source": [
    "Y_train = Y_train.astype('int')\n",
    "Y_test = Y_test.astype('int')"
   ]
  },
  {
   "cell_type": "markdown",
   "id": "92ce3af7-2db4-4e32-bb83-d136b89b8bf0",
   "metadata": {
    "tags": []
   },
   "source": [
    "## Setup Models"
   ]
  },
  {
   "cell_type": "code",
   "execution_count": 150,
   "id": "d991bcdc-074e-49d8-9871-2a956449e375",
   "metadata": {},
   "outputs": [],
   "source": [
    "# Setup ML Pipelines\n",
    "pipelines = {\n",
    "    'rf' : make_pipeline(StandardScaler(), RandomForestClassifier(random_state=1234)), \n",
    "    'gb' : make_pipeline(StandardScaler(), GradientBoostingClassifier(random_state=1234)),\n",
    "    'ad' : make_pipeline(StandardScaler(), AdaBoostClassifier(random_state=1234)),\n",
    "    'et' : make_pipeline(StandardScaler(), ExtraTreesClassifier(random_state=1234)),\n",
    "    'bg' : make_pipeline(StandardScaler(), BaggingClassifier(random_state=1234)),\n",
    "    'xg' : make_pipeline(StandardScaler(), xgb.XGBClassifier(random_state=1234)),\n",
    "    'lx' : make_pipeline(StandardScaler(), lgb.LGBMClassifier(random_state=1234)),\n",
    "    'ca' : make_pipeline(StandardScaler(), CatBoostClassifier(random_state=1234, silent=True))\n",
    "}"
   ]
  },
  {
   "cell_type": "code",
   "execution_count": 151,
   "id": "5af29d86-178d-453a-93b5-8a47a3bf1ee3",
   "metadata": {},
   "outputs": [
    {
     "data": {
      "text/plain": [
       "dict_keys(['base_estimator', 'bootstrap', 'bootstrap_features', 'max_features', 'max_samples', 'n_estimators', 'n_jobs', 'oob_score', 'random_state', 'verbose', 'warm_start'])"
      ]
     },
     "execution_count": 151,
     "metadata": {},
     "output_type": "execute_result"
    }
   ],
   "source": [
    "# See params\n",
    "BaggingClassifier().get_params().keys()"
   ]
  },
  {
   "cell_type": "code",
   "execution_count": 152,
   "id": "f46a8856-796d-4c95-9875-6419265188d7",
   "metadata": {},
   "outputs": [],
   "source": [
    "grid = {\n",
    "    'rf': {\n",
    "        'randomforestclassifier__n_estimators': [100,200,300]\n",
    "    },\n",
    "    'gb': {\n",
    "        'gradientboostingclassifier__n_estimators': [100, 200, 300]\n",
    "    },\n",
    "    'ad': {\n",
    "        'adaboostclassifier__n_estimators': [100, 200, 300]\n",
    "    },\n",
    "    'et': {\n",
    "        'extratreesclassifier__n_estimators': [100, 200, 300]\n",
    "    },\n",
    "    'bg': {\n",
    "        'baggingclassifier__n_estimators': [100, 200, 300]\n",
    "    },\n",
    "    'xg': {\n",
    "        'xgbclassifier__n_estimators': [100, 200, 300], 'verbose': [0]\n",
    "    },\n",
    "    'lx': {\n",
    "        'lgbmclassifier__n_estimators': [100, 200, 300]\n",
    "    },\n",
    "    'ca': {\n",
    "        'catboostclassifier__n_estimators': [100, 200, 300]\n",
    "    }\n",
    "}"
   ]
  },
  {
   "cell_type": "markdown",
   "id": "e20d8923-931b-44b8-9728-887b28f9ba27",
   "metadata": {},
   "source": [
    "## Train Models"
   ]
  },
  {
   "cell_type": "code",
   "execution_count": 153,
   "id": "75a57db8-048e-4d50-91de-e9433f31b67b",
   "metadata": {},
   "outputs": [
    {
     "name": "stdout",
     "output_type": "stream",
     "text": [
      "Training the rf model\n",
      "rf took 41.50921630859375 seconds to train\n",
      "Training the gb model\n",
      "gb took 45.3526873588562 seconds to train\n",
      "Training the ad model\n",
      "ad took 32.75372791290283 seconds to train\n",
      "Training the et model\n",
      "et took 50.17235803604126 seconds to train\n",
      "Training the bg model\n",
      "bg took 211.05249118804932 seconds to train\n",
      "Training the xg model\n"
     ]
    },
    {
     "name": "stderr",
     "output_type": "stream",
     "text": [
      "/home/jason/.local/lib/python3.10/site-packages/pkg_resources/__init__.py:123: PkgResourcesDeprecationWarning: 1.1build1 is an invalid version and will not be supported in a future release\n",
      "  warnings.warn(\n",
      "/home/jason/.local/lib/python3.10/site-packages/pkg_resources/__init__.py:123: PkgResourcesDeprecationWarning: 1.1build1 is an invalid version and will not be supported in a future release\n",
      "  warnings.warn(\n",
      "/home/jason/.local/lib/python3.10/site-packages/pkg_resources/__init__.py:123: PkgResourcesDeprecationWarning: 0.1.43ubuntu1 is an invalid version and will not be supported in a future release\n",
      "  warnings.warn(\n",
      "/home/jason/.local/lib/python3.10/site-packages/pkg_resources/__init__.py:123: PkgResourcesDeprecationWarning: 0.1.43ubuntu1 is an invalid version and will not be supported in a future release\n",
      "  warnings.warn(\n",
      "/home/jason/.local/lib/python3.10/site-packages/pkg_resources/__init__.py:123: PkgResourcesDeprecationWarning: -VERSION- is an invalid version and will not be supported in a future release\n",
      "  warnings.warn(\n",
      "/home/jason/.local/lib/python3.10/site-packages/pkg_resources/__init__.py:123: PkgResourcesDeprecationWarning: -VERSION- is an invalid version and will not be supported in a future release\n",
      "  warnings.warn(\n",
      "/home/jason/.local/lib/python3.10/site-packages/pkg_resources/__init__.py:123: PkgResourcesDeprecationWarning: 1.1build1 is an invalid version and will not be supported in a future release\n",
      "  warnings.warn(\n",
      "/home/jason/.local/lib/python3.10/site-packages/pkg_resources/__init__.py:123: PkgResourcesDeprecationWarning: 0.1.43ubuntu1 is an invalid version and will not be supported in a future release\n",
      "  warnings.warn(\n",
      "/home/jason/.local/lib/python3.10/site-packages/pkg_resources/__init__.py:123: PkgResourcesDeprecationWarning: -VERSION- is an invalid version and will not be supported in a future release\n",
      "  warnings.warn(\n",
      "/home/jason/.local/lib/python3.10/site-packages/pkg_resources/__init__.py:123: PkgResourcesDeprecationWarning: 1.1build1 is an invalid version and will not be supported in a future release\n",
      "  warnings.warn(\n",
      "/home/jason/.local/lib/python3.10/site-packages/pkg_resources/__init__.py:123: PkgResourcesDeprecationWarning: 0.1.43ubuntu1 is an invalid version and will not be supported in a future release\n",
      "  warnings.warn(\n",
      "/home/jason/.local/lib/python3.10/site-packages/pkg_resources/__init__.py:123: PkgResourcesDeprecationWarning: -VERSION- is an invalid version and will not be supported in a future release\n",
      "  warnings.warn(\n",
      "/home/jason/.local/lib/python3.10/site-packages/pkg_resources/__init__.py:123: PkgResourcesDeprecationWarning: 1.1build1 is an invalid version and will not be supported in a future release\n",
      "  warnings.warn(\n",
      "/home/jason/.local/lib/python3.10/site-packages/pkg_resources/__init__.py:123: PkgResourcesDeprecationWarning: 0.1.43ubuntu1 is an invalid version and will not be supported in a future release\n",
      "  warnings.warn(\n",
      "/home/jason/.local/lib/python3.10/site-packages/pkg_resources/__init__.py:123: PkgResourcesDeprecationWarning: -VERSION- is an invalid version and will not be supported in a future release\n",
      "  warnings.warn(\n",
      "/home/jason/.local/lib/python3.10/site-packages/pkg_resources/__init__.py:123: PkgResourcesDeprecationWarning: 1.1build1 is an invalid version and will not be supported in a future release\n",
      "  warnings.warn(\n",
      "/home/jason/.local/lib/python3.10/site-packages/pkg_resources/__init__.py:123: PkgResourcesDeprecationWarning: 0.1.43ubuntu1 is an invalid version and will not be supported in a future release\n",
      "  warnings.warn(\n",
      "/home/jason/.local/lib/python3.10/site-packages/pkg_resources/__init__.py:123: PkgResourcesDeprecationWarning: -VERSION- is an invalid version and will not be supported in a future release\n",
      "  warnings.warn(\n"
     ]
    },
    {
     "name": "stdout",
     "output_type": "stream",
     "text": [
      "xg took 39.75634503364563 seconds to train\n",
      "Training the lx model\n",
      "lx took 3.511533498764038 seconds to train\n",
      "Training the ca model\n",
      "ca took 47.36176133155823 seconds to train\n"
     ]
    }
   ],
   "source": [
    "# Do cross validation and tuning\n",
    "fit_models = {}\n",
    "for algo, pipeline in pipelines.items():\n",
    "    start = time.time()\n",
    "    print(f'Training the {algo} model')\n",
    "    model = GridSearchCV(pipeline, grid[algo], n_jobs=-1, cv=10)\n",
    "    model.fit(X_train, Y_train)\n",
    "    fit_models[algo] = model\n",
    "    end = time.time()\n",
    "    total = end - start\n",
    "    print(f'{algo} took {total:.3} seconds to train')"
   ]
  },
  {
   "cell_type": "code",
   "execution_count": 154,
   "id": "821f6d85-bb3b-4ba2-9c4a-97a8a3ab7720",
   "metadata": {},
   "outputs": [
    {
     "name": "stdout",
     "output_type": "stream",
     "text": [
      "Metrics for rf: Accuracy=0.94060, Recall=0.94073, Precision=0.93345 and predicted in 0.601686954498291 sec\n",
      "Metrics for gb: Accuracy=0.94133, Recall=0.93661, Precision=0.93848 and predicted in 0.05900907516479492 sec\n",
      "Metrics for ad: Accuracy=0.85913, Recall=0.84359, Precision=0.85486 and predicted in 0.38013219833374023 sec\n",
      "Metrics for et: Accuracy=0.92787, Recall=0.92201, Precision=0.92437 and predicted in 0.492215633392334 sec\n",
      "Metrics for bg: Accuracy=0.95960, Recall=0.96058, Precision=0.95382 and predicted in 0.6316523551940918 sec\n",
      "Metrics for xg: Accuracy=0.96293, Recall=0.96058, Precision=0.96058 and predicted in 0.02541518211364746 sec\n",
      "Metrics for lx: Accuracy=0.96227, Recall=0.96157, Precision=0.95831 and predicted in 0.03523755073547363 sec\n",
      "Metrics for ca: Accuracy=0.95967, Recall=0.95916, Precision=0.95523 and predicted in 0.01785731315612793 sec\n"
     ]
    }
   ],
   "source": [
    "# Evaluate performance of models\n",
    "for algo, model in fit_models.items():\n",
    "    start = time.time()\n",
    "    yhat = model.predict(X_test)\n",
    "    acc = accuracy_score(Y_test, yhat)\n",
    "    recall = recall_score(Y_test, yhat)\n",
    "    prec = precision_score(Y_test, yhat)\n",
    "    end = time.time()\n",
    "    total = end - start\n",
    "    print(f'Metrics for {algo}: Accuracy={acc:.5f}, Recall={recall:.5f}, Precision={prec:.5f} and predicted in {total:.3} sec')"
   ]
  },
  {
   "cell_type": "code",
   "execution_count": 155,
   "id": "4e512d97-84f9-42b3-9ded-1b1be89040c3",
   "metadata": {},
   "outputs": [
    {
     "ename": "NameError",
     "evalue": "name 'draw_tree' is not defined",
     "output_type": "error",
     "traceback": [
      "\u001b[0;31m---------------------------------------------------------------------------\u001b[0m",
      "\u001b[0;31mNameError\u001b[0m                                 Traceback (most recent call last)",
      "Input \u001b[0;32mIn [155]\u001b[0m, in \u001b[0;36m<cell line: 1>\u001b[0;34m()\u001b[0m\n\u001b[0;32m----> 1\u001b[0m \u001b[43mdraw_tree\u001b[49m(fit_models[\u001b[38;5;124m'\u001b[39m\u001b[38;5;124mrf\u001b[39m\u001b[38;5;124m'\u001b[39m], X_train, size\u001b[38;5;241m=\u001b[39m\u001b[38;5;241m10\u001b[39m, leaves_parallel\u001b[38;5;241m=\u001b[39m\u001b[38;5;28;01mTrue\u001b[39;00m, precision\u001b[38;5;241m=\u001b[39m\u001b[38;5;241m2\u001b[39m)\n",
      "\u001b[0;31mNameError\u001b[0m: name 'draw_tree' is not defined"
     ]
    }
   ],
   "source": [
    "draw_tree(fit_models['rf'], X_train, size=10, leaves_parallel=True, precision=2)"
   ]
  },
  {
   "cell_type": "markdown",
   "id": "9cfade10-ad67-4807-aff7-e70342bd0f2a",
   "metadata": {},
   "source": [
    "## Save Best Model"
   ]
  },
  {
   "cell_type": "code",
   "execution_count": 252,
   "id": "a15fc6ff-13a6-4632-8871-4060a23386f4",
   "metadata": {},
   "outputs": [],
   "source": [
    "with open('model.pkl', 'wb') as f:\n",
    "    pickle.dump(fit_models['gb'], f)"
   ]
  },
  {
   "cell_type": "markdown",
   "id": "b248ac70-d9a8-4b9f-8956-87f16824bf8a",
   "metadata": {},
   "source": [
    "# Use Best Model to predict"
   ]
  },
  {
   "cell_type": "code",
   "execution_count": 253,
   "id": "185a044e-6010-4ee1-a34d-039dc3e4f86e",
   "metadata": {
    "tags": []
   },
   "outputs": [],
   "source": [
    "with open('model.pkl', 'rb') as f:\n",
    "    model = pickle.load(f)"
   ]
  },
  {
   "cell_type": "code",
   "execution_count": 287,
   "id": "0b672c37-b987-4731-b801-ac1b5f4c3d1e",
   "metadata": {},
   "outputs": [],
   "source": [
    "test_df = pd.read_csv('tests.csv')"
   ]
  },
  {
   "cell_type": "markdown",
   "id": "0a5c9875-e810-46cb-a380-3fe3f6357ddb",
   "metadata": {},
   "source": [
    "# Prepare test data"
   ]
  },
  {
   "cell_type": "code",
   "execution_count": 288,
   "id": "e8af5c78-b20b-4477-9c2c-7e78ea9a65c5",
   "metadata": {
    "tags": []
   },
   "outputs": [
    {
     "data": {
      "text/html": [
       "<div>\n",
       "<style scoped>\n",
       "    .dataframe tbody tr th:only-of-type {\n",
       "        vertical-align: middle;\n",
       "    }\n",
       "\n",
       "    .dataframe tbody tr th {\n",
       "        vertical-align: top;\n",
       "    }\n",
       "\n",
       "    .dataframe thead th {\n",
       "        text-align: right;\n",
       "    }\n",
       "</style>\n",
       "<table border=\"1\" class=\"dataframe\">\n",
       "  <thead>\n",
       "    <tr style=\"text-align: right;\">\n",
       "      <th></th>\n",
       "      <th>First_pokemon</th>\n",
       "      <th>Second_pokemon</th>\n",
       "    </tr>\n",
       "  </thead>\n",
       "  <tbody>\n",
       "    <tr>\n",
       "      <th>0</th>\n",
       "      <td>129</td>\n",
       "      <td>117</td>\n",
       "    </tr>\n",
       "    <tr>\n",
       "      <th>1</th>\n",
       "      <td>660</td>\n",
       "      <td>211</td>\n",
       "    </tr>\n",
       "    <tr>\n",
       "      <th>2</th>\n",
       "      <td>706</td>\n",
       "      <td>115</td>\n",
       "    </tr>\n",
       "    <tr>\n",
       "      <th>3</th>\n",
       "      <td>195</td>\n",
       "      <td>618</td>\n",
       "    </tr>\n",
       "    <tr>\n",
       "      <th>4</th>\n",
       "      <td>27</td>\n",
       "      <td>656</td>\n",
       "    </tr>\n",
       "  </tbody>\n",
       "</table>\n",
       "</div>"
      ],
      "text/plain": [
       "   First_pokemon  Second_pokemon\n",
       "0            129             117\n",
       "1            660             211\n",
       "2            706             115\n",
       "3            195             618\n",
       "4             27             656"
      ]
     },
     "execution_count": 288,
     "metadata": {},
     "output_type": "execute_result"
    }
   ],
   "source": [
    "test_df.head()"
   ]
  },
  {
   "cell_type": "code",
   "execution_count": 262,
   "id": "9f9b0474-68b2-4c22-b5d9-9ae865cb57b4",
   "metadata": {},
   "outputs": [],
   "source": [
    "tests = test_df.merge(pokemon1, left_on='First_pokemon', right_on='id')\n",
    "tests = tests.rename(columns={col:col+'_1' for col in pokemon1.columns})\n",
    "tests = tests.merge(pokemon1, left_on='Second_pokemon', right_on='id')\n",
    "tests = tests.rename(columns={col:col+'_2' for col in pokemon1.columns})"
   ]
  },
  {
   "cell_type": "code",
   "execution_count": 265,
   "id": "678a04bd-73c2-4921-914f-68cddb202cd1",
   "metadata": {},
   "outputs": [],
   "source": [
    "# Drop extra columns from join\n",
    "tests = tests.drop(['First_pokemon', 'Second_pokemon', 'id_1', 'id_2'], axis=1)"
   ]
  },
  {
   "cell_type": "code",
   "execution_count": 267,
   "id": "a97dab3b-1d13-451c-8ea9-2e2a5d0875a6",
   "metadata": {},
   "outputs": [],
   "source": [
    "preds = model.predict(tests)"
   ]
  },
  {
   "cell_type": "code",
   "execution_count": 291,
   "id": "7e75c5b5-2299-4dca-ac49-444f35540b5a",
   "metadata": {},
   "outputs": [],
   "source": [
    "submission = test_df.copy()"
   ]
  },
  {
   "cell_type": "code",
   "execution_count": 292,
   "id": "55b058df-18c0-449b-98f6-f575a97b7021",
   "metadata": {},
   "outputs": [],
   "source": [
    "submission['first_wins'] = preds"
   ]
  },
  {
   "cell_type": "code",
   "execution_count": 293,
   "id": "09b692d3-7ad0-4993-9573-bbc622cb0464",
   "metadata": {},
   "outputs": [
    {
     "data": {
      "text/html": [
       "<div>\n",
       "<style scoped>\n",
       "    .dataframe tbody tr th:only-of-type {\n",
       "        vertical-align: middle;\n",
       "    }\n",
       "\n",
       "    .dataframe tbody tr th {\n",
       "        vertical-align: top;\n",
       "    }\n",
       "\n",
       "    .dataframe thead th {\n",
       "        text-align: right;\n",
       "    }\n",
       "</style>\n",
       "<table border=\"1\" class=\"dataframe\">\n",
       "  <thead>\n",
       "    <tr style=\"text-align: right;\">\n",
       "      <th></th>\n",
       "      <th>First_pokemon</th>\n",
       "      <th>Second_pokemon</th>\n",
       "      <th>first_wins</th>\n",
       "    </tr>\n",
       "  </thead>\n",
       "  <tbody>\n",
       "    <tr>\n",
       "      <th>0</th>\n",
       "      <td>129</td>\n",
       "      <td>117</td>\n",
       "      <td>True</td>\n",
       "    </tr>\n",
       "    <tr>\n",
       "      <th>1</th>\n",
       "      <td>660</td>\n",
       "      <td>211</td>\n",
       "      <td>True</td>\n",
       "    </tr>\n",
       "    <tr>\n",
       "      <th>2</th>\n",
       "      <td>706</td>\n",
       "      <td>115</td>\n",
       "      <td>True</td>\n",
       "    </tr>\n",
       "    <tr>\n",
       "      <th>3</th>\n",
       "      <td>195</td>\n",
       "      <td>618</td>\n",
       "      <td>True</td>\n",
       "    </tr>\n",
       "    <tr>\n",
       "      <th>4</th>\n",
       "      <td>27</td>\n",
       "      <td>656</td>\n",
       "      <td>True</td>\n",
       "    </tr>\n",
       "    <tr>\n",
       "      <th>...</th>\n",
       "      <td>...</td>\n",
       "      <td>...</td>\n",
       "      <td>...</td>\n",
       "    </tr>\n",
       "    <tr>\n",
       "      <th>9995</th>\n",
       "      <td>216</td>\n",
       "      <td>498</td>\n",
       "      <td>False</td>\n",
       "    </tr>\n",
       "    <tr>\n",
       "      <th>9996</th>\n",
       "      <td>113</td>\n",
       "      <td>404</td>\n",
       "      <td>True</td>\n",
       "    </tr>\n",
       "    <tr>\n",
       "      <th>9997</th>\n",
       "      <td>493</td>\n",
       "      <td>104</td>\n",
       "      <td>False</td>\n",
       "    </tr>\n",
       "    <tr>\n",
       "      <th>9998</th>\n",
       "      <td>643</td>\n",
       "      <td>259</td>\n",
       "      <td>False</td>\n",
       "    </tr>\n",
       "    <tr>\n",
       "      <th>9999</th>\n",
       "      <td>678</td>\n",
       "      <td>531</td>\n",
       "      <td>True</td>\n",
       "    </tr>\n",
       "  </tbody>\n",
       "</table>\n",
       "<p>10000 rows × 3 columns</p>\n",
       "</div>"
      ],
      "text/plain": [
       "      First_pokemon  Second_pokemon  first_wins\n",
       "0               129             117        True\n",
       "1               660             211        True\n",
       "2               706             115        True\n",
       "3               195             618        True\n",
       "4                27             656        True\n",
       "...             ...             ...         ...\n",
       "9995            216             498       False\n",
       "9996            113             404        True\n",
       "9997            493             104       False\n",
       "9998            643             259       False\n",
       "9999            678             531        True\n",
       "\n",
       "[10000 rows x 3 columns]"
      ]
     },
     "execution_count": 293,
     "metadata": {},
     "output_type": "execute_result"
    }
   ],
   "source": [
    "submission"
   ]
  },
  {
   "cell_type": "markdown",
   "id": "25ea32f1-57c9-4a26-9a27-72dacaab4ce4",
   "metadata": {},
   "source": [
    "## Try Voting Classifier"
   ]
  },
  {
   "cell_type": "code",
   "execution_count": 26,
   "id": "6dff97c2-a996-4fe9-a17b-3fb316a905a5",
   "metadata": {},
   "outputs": [],
   "source": [
    "clf1 = RandomForestClassifier(random_state=1234)\n",
    "clf2 = GradientBoostingClassifier(random_state=1234)\n",
    "clf3 = AdaBoostClassifier(random_state=1234)\n",
    "clf4 = ExtraTreesClassifier(random_state=1234)\n",
    "clf5 = BaggingClassifier(random_state=1234)"
   ]
  },
  {
   "cell_type": "code",
   "execution_count": 27,
   "id": "0d66389e-7c16-4183-b73a-edaeced6dcdf",
   "metadata": {},
   "outputs": [],
   "source": [
    "eclf1 = VotingClassifier(estimators=[('rf', clf1), ('gb', clf2), ('ad', clf3), ('et', clf4), ('bg', clf5)], voting='hard')"
   ]
  },
  {
   "cell_type": "code",
   "execution_count": 28,
   "id": "737b747e-93d1-44b5-8ad3-29b8edb65e56",
   "metadata": {},
   "outputs": [],
   "source": [
    "eclf1 = eclf1.fit(X_train, Y_train)"
   ]
  },
  {
   "cell_type": "code",
   "execution_count": 29,
   "id": "8f3bd7b2-a7f1-42ae-8b83-b074f2e1caea",
   "metadata": {},
   "outputs": [
    {
     "name": "stdout",
     "output_type": "stream",
     "text": [
      "Metrics for Voting Classifier: Accuracy=0.9393333333333334, Recall=0.9381735677821894, Precision=0.9331452750352609\n"
     ]
    }
   ],
   "source": [
    "# Evaluate performance of models\n",
    "yhat = eclf1.predict(X_test)\n",
    "acc = accuracy_score(Y_test, yhat)\n",
    "recall = recall_score(Y_test, yhat)\n",
    "prec = precision_score(Y_test, yhat)\n",
    "print(f'Metrics for Voting Classifier: Accuracy={acc}, Recall={recall}, Precision={prec}')"
   ]
  },
  {
   "cell_type": "code",
   "execution_count": null,
   "id": "a91388e2-82f8-48a7-9c5f-33a42447735e",
   "metadata": {},
   "outputs": [],
   "source": []
  }
 ],
 "metadata": {
  "kernelspec": {
   "display_name": "Python 3 (ipykernel)",
   "language": "python",
   "name": "python3"
  },
  "language_info": {
   "codemirror_mode": {
    "name": "ipython",
    "version": 3
   },
   "file_extension": ".py",
   "mimetype": "text/x-python",
   "name": "python",
   "nbconvert_exporter": "python",
   "pygments_lexer": "ipython3",
   "version": "3.10.4"
  }
 },
 "nbformat": 4,
 "nbformat_minor": 5
}
