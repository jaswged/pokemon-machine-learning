{
 "cells": [
  {
   "cell_type": "markdown",
   "id": "5487eccb-7ef8-4cbd-b4f8-5b0b0dd042b1",
   "metadata": {},
   "source": [
    "# FastAI Pokemon Whole"
   ]
  },
  {
   "cell_type": "code",
   "execution_count": 2,
   "id": "c81782fd-8416-4743-a63d-47b72452f212",
   "metadata": {},
   "outputs": [],
   "source": [
    "from fastai.tabular.all import *\n",
    "import pandas as pd\n",
    "from sklearn.model_selection import train_test_split"
   ]
  },
  {
   "cell_type": "code",
   "execution_count": 3,
   "id": "cfe1f2e3-4afa-4fcb-84f9-f594d5d0d41b",
   "metadata": {},
   "outputs": [],
   "source": [
    "pokemon = pd.read_csv('pokemon.csv')\n",
    "combats = pd.read_csv('combats.csv')"
   ]
  },
  {
   "cell_type": "markdown",
   "id": "c352b2e2-a1e9-45a8-874a-f4f7b0b0c338",
   "metadata": {},
   "source": [
    "## Prepare the data"
   ]
  },
  {
   "cell_type": "code",
   "execution_count": 4,
   "id": "17d1bc8f-509f-4bb1-a326-2ab78837a9ab",
   "metadata": {},
   "outputs": [],
   "source": [
    "combats['First_pokemon'] = combats['First_pokemon'].astype('int16')\n",
    "combats['Second_pokemon'] = combats['Second_pokemon'].astype('int16')\n",
    "combats['first_wins'] = combats['First_pokemon'] == combats['Winner']\n",
    "# combats['first_wins'] = combats['first_wins'].map({True:1, False:0})\n",
    "# combats['first_wins'] = combats['first_wins'].astype(np.float32)\n",
    "combats['first_wins'] = combats['first_wins'].astype('category')\n",
    "combats = combats.drop('Winner', axis=1)"
   ]
  },
  {
   "cell_type": "code",
   "execution_count": 5,
   "id": "e118b3cc-71ab-493f-a511-173ce3803109",
   "metadata": {},
   "outputs": [],
   "source": [
    "def prepare_pokemon(poke, encode=True):\n",
    "    poke = poke.drop(['Legendary', 'Name', 'Type 2', 'Generation'], axis=1)\\\n",
    "                .rename(columns={\n",
    "                            'Type 1':'Type',\n",
    "                             'Sp. Atk':'sp_atk',\n",
    "                             'Sp. Def':'sp_def',\n",
    "                             '#':'id'}\n",
    "                       )\n",
    "\n",
    "    poke['HP'] = poke['HP'].astype('int16')\n",
    "    poke['Attack'] = poke['Attack'].astype('int16')\n",
    "    poke['Defense'] = poke['Defense'].astype('int16')\n",
    "    poke['sp_atk'] = poke['sp_atk'].astype('int16')\n",
    "    poke['sp_def'] = poke['sp_def'].astype('int16')\n",
    "    poke['Speed'] = poke['Speed'].astype('int16')\n",
    "    poke['Type'] = poke['Type'].astype('category')\n",
    "    poke['id'] = poke['id'].astype('int16')\n",
    "\n",
    "    if encode:\n",
    "        poke = pd.get_dummies(poke, drop_first=False)\n",
    "    return poke"
   ]
  },
  {
   "cell_type": "code",
   "execution_count": 8,
   "id": "e960969a-ff57-4529-ac6e-017fba7558fd",
   "metadata": {},
   "outputs": [],
   "source": [
    "pokemon2 = prepare_pokemon(pokemon, False)"
   ]
  },
  {
   "cell_type": "code",
   "execution_count": 9,
   "id": "41093445-f86a-47a8-b9ac-aed3afa587bb",
   "metadata": {},
   "outputs": [],
   "source": [
    "df = combats.merge(pokemon2, left_on='First_pokemon', right_on='id')\n",
    "df = df.rename(columns={col:col+'_1' for col in pokemon2.columns})\n",
    "df = df.merge(pokemon2, left_on='Second_pokemon', right_on='id')\n",
    "df = df.rename(columns={col:col+'_2' for col in pokemon2.columns})\n",
    "df = df.drop(['First_pokemon', 'Second_pokemon', 'id_1', 'id_2'], axis=1)"
   ]
  },
  {
   "cell_type": "code",
   "execution_count": 10,
   "id": "98bdd06e-7a58-4350-9b7d-0767939b2aa1",
   "metadata": {},
   "outputs": [
    {
     "name": "stdout",
     "output_type": "stream",
     "text": [
      "<class 'pandas.core.frame.DataFrame'>\n",
      "Int64Index: 50000 entries, 0 to 49999\n",
      "Data columns (total 15 columns):\n",
      " #   Column      Non-Null Count  Dtype   \n",
      "---  ------      --------------  -----   \n",
      " 0   first_wins  50000 non-null  category\n",
      " 1   Type_1      50000 non-null  category\n",
      " 2   HP_1        50000 non-null  int16   \n",
      " 3   Attack_1    50000 non-null  int16   \n",
      " 4   Defense_1   50000 non-null  int16   \n",
      " 5   sp_atk_1    50000 non-null  int16   \n",
      " 6   sp_def_1    50000 non-null  int16   \n",
      " 7   Speed_1     50000 non-null  int16   \n",
      " 8   Type_2      50000 non-null  category\n",
      " 9   HP_2        50000 non-null  int16   \n",
      " 10  Attack_2    50000 non-null  int16   \n",
      " 11  Defense_2   50000 non-null  int16   \n",
      " 12  sp_atk_2    50000 non-null  int16   \n",
      " 13  sp_def_2    50000 non-null  int16   \n",
      " 14  Speed_2     50000 non-null  int16   \n",
      "dtypes: category(3), int16(12)\n",
      "memory usage: 1.7 MB\n"
     ]
    }
   ],
   "source": [
    "df.info()"
   ]
  },
  {
   "cell_type": "code",
   "execution_count": 11,
   "id": "7fe7328d-3387-4a7f-8bd2-34e5b2c26536",
   "metadata": {},
   "outputs": [],
   "source": [
    "cont, cat = cont_cat_split(df, 1, dep_var='first_wins')"
   ]
  },
  {
   "cell_type": "code",
   "execution_count": 18,
   "id": "3652ec67-2acb-48e9-a84b-6ea99758da8a",
   "metadata": {},
   "outputs": [],
   "source": [
    "splits = RandomSplitter()(range_of(df))"
   ]
  },
  {
   "cell_type": "code",
   "execution_count": 19,
   "id": "274bfb02-b42f-4f3e-8282-526be5ca602f",
   "metadata": {},
   "outputs": [],
   "source": [
    "procs = [Categorify, Normalize]\n",
    "y_names = 'first_wins'\n",
    "y_block = CategoryBlock()"
   ]
  },
  {
   "cell_type": "code",
   "execution_count": 20,
   "id": "348911bf-20ba-4ac1-a2b4-1c2b9e27bf8f",
   "metadata": {},
   "outputs": [],
   "source": [
    "to = TabularPandas(df, procs=procs, cat_names=cat, cont_names=cont, y_names=y_names, y_block=y_block, splits=splits)"
   ]
  },
  {
   "cell_type": "code",
   "execution_count": 21,
   "id": "8c63ab0b-201a-4441-86a6-bcbc61bf4d51",
   "metadata": {},
   "outputs": [],
   "source": [
    "dls = to.dataloaders()"
   ]
  },
  {
   "cell_type": "code",
   "execution_count": 26,
   "id": "672e57fd-a1f4-4c98-b0f5-15a07d01626f",
   "metadata": {},
   "outputs": [],
   "source": [
    "# Or split data loader yourself\n",
    "trn_dl = TabDataLoader(to.train, bs=64, shuffle=True, drop_last=True)\n",
    "val_dl = TabDataLoader(to.valid, bs=128)"
   ]
  },
  {
   "cell_type": "code",
   "execution_count": 27,
   "id": "a9b64edc-efc4-42d9-a5b1-34290d5ed50d",
   "metadata": {},
   "outputs": [],
   "source": [
    "dls = DataLoaders(trn_dl, val_dl)"
   ]
  },
  {
   "cell_type": "code",
   "execution_count": 31,
   "id": "93826972-f459-4d30-a7e8-918e9023b2c2",
   "metadata": {},
   "outputs": [
    {
     "data": {
      "text/plain": [
       "[(19, 8), (19, 8)]"
      ]
     },
     "execution_count": 31,
     "metadata": {},
     "output_type": "execute_result"
    }
   ],
   "source": [
    "# Find size ratio between different categorical fields\n",
    "# min(600,(1.6∗var.nunique) 0.56)\n",
    "emb_szs = get_emb_sz(to); emb_szs"
   ]
  },
  {
   "cell_type": "code",
   "execution_count": 34,
   "id": "16e8c80a-4f22-405c-8730-743e93b07646",
   "metadata": {},
   "outputs": [
    {
     "data": {
      "text/plain": [
       "12"
      ]
     },
     "execution_count": 34,
     "metadata": {},
     "output_type": "execute_result"
    }
   ],
   "source": [
    "cont_len = len(to.cont_names); cont_len"
   ]
  },
  {
   "cell_type": "code",
   "execution_count": 35,
   "id": "ca245eba-ee4c-4328-ae8d-9e35e9ee6a0e",
   "metadata": {},
   "outputs": [
    {
     "data": {
      "text/plain": [
       "3"
      ]
     },
     "execution_count": 35,
     "metadata": {},
     "output_type": "execute_result"
    }
   ],
   "source": [
    "batch = dls.one_batch(); len(batch)"
   ]
  },
  {
   "cell_type": "markdown",
   "id": "33e608c5-450e-49ff-b4d6-89733c011b2d",
   "metadata": {},
   "source": [
    "## Create learner"
   ]
  },
  {
   "cell_type": "code",
   "execution_count": 36,
   "id": "7a729f04-2a3e-46ef-a243-654ee5d9ea99",
   "metadata": {},
   "outputs": [],
   "source": [
    "net = TabularModel(emb_szs, cont_len, 2, [200,100])"
   ]
  },
  {
   "cell_type": "code",
   "execution_count": 38,
   "id": "feb6e106-e7b9-4c93-b38b-b42f6ffedce5",
   "metadata": {},
   "outputs": [
    {
     "data": {
      "text/plain": [
       "TabularModel(\n",
       "  (embeds): ModuleList(\n",
       "    (0): Embedding(19, 8)\n",
       "    (1): Embedding(19, 8)\n",
       "  )\n",
       "  (emb_drop): Dropout(p=0.0, inplace=False)\n",
       "  (bn_cont): BatchNorm1d(12, eps=1e-05, momentum=0.1, affine=True, track_running_stats=True)\n",
       "  (layers): Sequential(\n",
       "    (0): LinBnDrop(\n",
       "      (0): Linear(in_features=28, out_features=200, bias=False)\n",
       "      (1): ReLU(inplace=True)\n",
       "      (2): BatchNorm1d(200, eps=1e-05, momentum=0.1, affine=True, track_running_stats=True)\n",
       "    )\n",
       "    (1): LinBnDrop(\n",
       "      (0): Linear(in_features=200, out_features=100, bias=False)\n",
       "      (1): ReLU(inplace=True)\n",
       "      (2): BatchNorm1d(100, eps=1e-05, momentum=0.1, affine=True, track_running_stats=True)\n",
       "    )\n",
       "    (2): LinBnDrop(\n",
       "      (0): Linear(in_features=100, out_features=2, bias=True)\n",
       "    )\n",
       "  )\n",
       ")"
      ]
     },
     "execution_count": 38,
     "metadata": {},
     "output_type": "execute_result"
    }
   ],
   "source": [
    "# See the neural nets layers\n",
    "net"
   ]
  },
  {
   "cell_type": "code",
   "execution_count": 44,
   "id": "b89924ef-a540-4e01-b01e-3414b5e3967c",
   "metadata": {},
   "outputs": [],
   "source": [
    "# Short hand that builds a \"learner\" for you\n",
    "learn = tabular_learner(dls, [200,100], metrics=accuracy)"
   ]
  },
  {
   "cell_type": "code",
   "execution_count": 45,
   "id": "3aee966e-970a-4cfb-aafb-591517f17b43",
   "metadata": {},
   "outputs": [
    {
     "data": {
      "text/html": [
       "\n",
       "<style>\n",
       "    /* Turns off some styling */\n",
       "    progress {\n",
       "        /* gets rid of default border in Firefox and Opera. */\n",
       "        border: none;\n",
       "        /* Needs to be in here for Safari polyfill so background images work as expected. */\n",
       "        background-size: auto;\n",
       "    }\n",
       "    progress:not([value]), progress:not([value])::-webkit-progress-bar {\n",
       "        background: repeating-linear-gradient(45deg, #7e7e7e, #7e7e7e 10px, #5c5c5c 10px, #5c5c5c 20px);\n",
       "    }\n",
       "    .progress-bar-interrupted, .progress-bar-interrupted::-webkit-progress-bar {\n",
       "        background: #F44336;\n",
       "    }\n",
       "</style>\n"
      ],
      "text/plain": [
       "<IPython.core.display.HTML object>"
      ]
     },
     "metadata": {},
     "output_type": "display_data"
    },
    {
     "data": {
      "text/html": [],
      "text/plain": [
       "<IPython.core.display.HTML object>"
      ]
     },
     "metadata": {},
     "output_type": "display_data"
    },
    {
     "data": {
      "text/plain": [
       "SuggestedLRs(valley=0.0010000000474974513)"
      ]
     },
     "execution_count": 45,
     "metadata": {},
     "output_type": "execute_result"
    },
    {
     "data": {
      "image/png": "[encoded data removed]",
      "text/plain": [
       "<Figure size 432x288 with 1 Axes>"
      ]
     },
     "metadata": {
      "needs_background": "light"
     },
     "output_type": "display_data"
    }
   ],
   "source": [
    "learn.lr_find()"
   ]
  },
  {
   "cell_type": "code",
   "execution_count": 55,
   "id": "a4acdad3-0573-42c6-8c2f-ed9f924534ee",
   "metadata": {},
   "outputs": [
    {
     "data": {
      "text/html": [
       "\n",
       "<style>\n",
       "    /* Turns off some styling */\n",
       "    progress {\n",
       "        /* gets rid of default border in Firefox and Opera. */\n",
       "        border: none;\n",
       "        /* Needs to be in here for Safari polyfill so background images work as expected. */\n",
       "        background-size: auto;\n",
       "    }\n",
       "    progress:not([value]), progress:not([value])::-webkit-progress-bar {\n",
       "        background: repeating-linear-gradient(45deg, #7e7e7e, #7e7e7e 10px, #5c5c5c 10px, #5c5c5c 20px);\n",
       "    }\n",
       "    .progress-bar-interrupted, .progress-bar-interrupted::-webkit-progress-bar {\n",
       "        background: #F44336;\n",
       "    }\n",
       "</style>\n"
      ],
      "text/plain": [
       "<IPython.core.display.HTML object>"
      ]
     },
     "metadata": {},
     "output_type": "display_data"
    },
    {
     "data": {
      "text/html": [
       "<table border=\"1\" class=\"dataframe\">\n",
       "  <thead>\n",
       "    <tr style=\"text-align: left;\">\n",
       "      <th>epoch</th>\n",
       "      <th>train_loss</th>\n",
       "      <th>valid_loss</th>\n",
       "      <th>accuracy</th>\n",
       "      <th>time</th>\n",
       "    </tr>\n",
       "  </thead>\n",
       "  <tbody>\n",
       "    <tr>\n",
       "      <td>0</td>\n",
       "      <td>0.120629</td>\n",
       "      <td>0.131596</td>\n",
       "      <td>0.957400</td>\n",
       "      <td>00:00</td>\n",
       "    </tr>\n",
       "  </tbody>\n",
       "</table>"
      ],
      "text/plain": [
       "<IPython.core.display.HTML object>"
      ]
     },
     "metadata": {},
     "output_type": "display_data"
    }
   ],
   "source": [
    "learn.fit_one_cycle(1, 2e-3)"
   ]
  },
  {
   "cell_type": "code",
   "execution_count": 56,
   "id": "0009812b-5c97-4092-85ef-e09814483a04",
   "metadata": {},
   "outputs": [
    {
     "data": {
      "text/plain": [
       "Path('models/nn957.pth')"
      ]
     },
     "execution_count": 56,
     "metadata": {},
     "output_type": "execute_result"
    }
   ],
   "source": [
    "# Save the 95% accuracy\n",
    "learn.save('nn957')"
   ]
  },
  {
   "cell_type": "code",
   "execution_count": 46,
   "id": "a2d182cd-f213-4caa-be7c-5ea4ebf0ec56",
   "metadata": {},
   "outputs": [
    {
     "data": {
      "text/html": [
       "\n",
       "<style>\n",
       "    /* Turns off some styling */\n",
       "    progress {\n",
       "        /* gets rid of default border in Firefox and Opera. */\n",
       "        border: none;\n",
       "        /* Needs to be in here for Safari polyfill so background images work as expected. */\n",
       "        background-size: auto;\n",
       "    }\n",
       "    progress:not([value]), progress:not([value])::-webkit-progress-bar {\n",
       "        background: repeating-linear-gradient(45deg, #7e7e7e, #7e7e7e 10px, #5c5c5c 10px, #5c5c5c 20px);\n",
       "    }\n",
       "    .progress-bar-interrupted, .progress-bar-interrupted::-webkit-progress-bar {\n",
       "        background: #F44336;\n",
       "    }\n",
       "</style>\n"
      ],
      "text/plain": [
       "<IPython.core.display.HTML object>"
      ]
     },
     "metadata": {},
     "output_type": "display_data"
    },
    {
     "data": {
      "text/html": [
       "<table border=\"1\" class=\"dataframe\">\n",
       "  <thead>\n",
       "    <tr style=\"text-align: left;\">\n",
       "      <th>epoch</th>\n",
       "      <th>train_loss</th>\n",
       "      <th>valid_loss</th>\n",
       "      <th>accuracy</th>\n",
       "      <th>time</th>\n",
       "    </tr>\n",
       "  </thead>\n",
       "  <tbody>\n",
       "    <tr>\n",
       "      <td>0</td>\n",
       "      <td>0.258314</td>\n",
       "      <td>0.226286</td>\n",
       "      <td>0.917500</td>\n",
       "      <td>00:03</td>\n",
       "    </tr>\n",
       "    <tr>\n",
       "      <td>1</td>\n",
       "      <td>0.251369</td>\n",
       "      <td>0.213572</td>\n",
       "      <td>0.925400</td>\n",
       "      <td>00:03</td>\n",
       "    </tr>\n",
       "    <tr>\n",
       "      <td>2</td>\n",
       "      <td>0.244871</td>\n",
       "      <td>0.201684</td>\n",
       "      <td>0.930800</td>\n",
       "      <td>00:03</td>\n",
       "    </tr>\n",
       "    <tr>\n",
       "      <td>3</td>\n",
       "      <td>0.217971</td>\n",
       "      <td>0.199993</td>\n",
       "      <td>0.923600</td>\n",
       "      <td>00:03</td>\n",
       "    </tr>\n",
       "    <tr>\n",
       "      <td>4</td>\n",
       "      <td>0.235141</td>\n",
       "      <td>0.195895</td>\n",
       "      <td>0.931000</td>\n",
       "      <td>00:03</td>\n",
       "    </tr>\n",
       "  </tbody>\n",
       "</table>"
      ],
      "text/plain": [
       "<IPython.core.display.HTML object>"
      ]
     },
     "metadata": {},
     "output_type": "display_data"
    }
   ],
   "source": [
    "learn.fit(5, 1e-3)"
   ]
  },
  {
   "cell_type": "code",
   "execution_count": 47,
   "id": "c498e98b-8854-42d1-930d-2bd03894083f",
   "metadata": {},
   "outputs": [
    {
     "data": {
      "text/html": [
       "\n",
       "<style>\n",
       "    /* Turns off some styling */\n",
       "    progress {\n",
       "        /* gets rid of default border in Firefox and Opera. */\n",
       "        border: none;\n",
       "        /* Needs to be in here for Safari polyfill so background images work as expected. */\n",
       "        background-size: auto;\n",
       "    }\n",
       "    progress:not([value]), progress:not([value])::-webkit-progress-bar {\n",
       "        background: repeating-linear-gradient(45deg, #7e7e7e, #7e7e7e 10px, #5c5c5c 10px, #5c5c5c 20px);\n",
       "    }\n",
       "    .progress-bar-interrupted, .progress-bar-interrupted::-webkit-progress-bar {\n",
       "        background: #F44336;\n",
       "    }\n",
       "</style>\n"
      ],
      "text/plain": [
       "<IPython.core.display.HTML object>"
      ]
     },
     "metadata": {},
     "output_type": "display_data"
    },
    {
     "data": {
      "text/html": [
       "<table border=\"1\" class=\"dataframe\">\n",
       "  <thead>\n",
       "    <tr style=\"text-align: left;\">\n",
       "      <th>epoch</th>\n",
       "      <th>train_loss</th>\n",
       "      <th>valid_loss</th>\n",
       "      <th>accuracy</th>\n",
       "      <th>time</th>\n",
       "    </tr>\n",
       "  </thead>\n",
       "  <tbody>\n",
       "    <tr>\n",
       "      <td>0</td>\n",
       "      <td>0.291918</td>\n",
       "      <td>0.223725</td>\n",
       "      <td>0.921900</td>\n",
       "      <td>00:01</td>\n",
       "    </tr>\n",
       "    <tr>\n",
       "      <td>1</td>\n",
       "      <td>0.238496</td>\n",
       "      <td>0.202548</td>\n",
       "      <td>0.927700</td>\n",
       "      <td>00:00</td>\n",
       "    </tr>\n",
       "    <tr>\n",
       "      <td>2</td>\n",
       "      <td>0.206086</td>\n",
       "      <td>0.188949</td>\n",
       "      <td>0.931900</td>\n",
       "      <td>00:00</td>\n",
       "    </tr>\n",
       "  </tbody>\n",
       "</table>"
      ],
      "text/plain": [
       "<IPython.core.display.HTML object>"
      ]
     },
     "metadata": {},
     "output_type": "display_data"
    }
   ],
   "source": [
    "# Speed it up\n",
    "dls = to.dataloaders(bs=1024)\n",
    "learn = tabular_learner(dls, [200,100], metrics=accuracy)\n",
    "learn.fit(3, 1e-2)"
   ]
  },
  {
   "cell_type": "markdown",
   "id": "d2186def-15e7-46ec-bb39-18942b3a5e99",
   "metadata": {},
   "source": [
    "# Inference"
   ]
  },
  {
   "cell_type": "code",
   "execution_count": 62,
   "id": "2ec6c649-bde1-4e1c-8144-6afdb2d42a71",
   "metadata": {},
   "outputs": [
    {
     "data": {
      "text/html": [
       "\n",
       "<style>\n",
       "    /* Turns off some styling */\n",
       "    progress {\n",
       "        /* gets rid of default border in Firefox and Opera. */\n",
       "        border: none;\n",
       "        /* Needs to be in here for Safari polyfill so background images work as expected. */\n",
       "        background-size: auto;\n",
       "    }\n",
       "    progress:not([value]), progress:not([value])::-webkit-progress-bar {\n",
       "        background: repeating-linear-gradient(45deg, #7e7e7e, #7e7e7e 10px, #5c5c5c 10px, #5c5c5c 20px);\n",
       "    }\n",
       "    .progress-bar-interrupted, .progress-bar-interrupted::-webkit-progress-bar {\n",
       "        background: #F44336;\n",
       "    }\n",
       "</style>\n"
      ],
      "text/plain": [
       "<IPython.core.display.HTML object>"
      ]
     },
     "metadata": {},
     "output_type": "display_data"
    },
    {
     "data": {
      "text/html": [],
      "text/plain": [
       "<IPython.core.display.HTML object>"
      ]
     },
     "metadata": {},
     "output_type": "display_data"
    }
   ],
   "source": [
    "# Quick predict on first row\n",
    "row, cls, probs = learn.predict(df.iloc[0])"
   ]
  },
  {
   "cell_type": "code",
   "execution_count": 61,
   "id": "177261b3-8c6e-4aac-84fa-27d359299592",
   "metadata": {},
   "outputs": [
    {
     "data": {
      "text/plain": [
       "tensor(0)"
      ]
     },
     "execution_count": 61,
     "metadata": {},
     "output_type": "execute_result"
    }
   ],
   "source": [
    "cls"
   ]
  },
  {
   "cell_type": "code",
   "execution_count": 60,
   "id": "479652eb-bd88-453e-86b7-0197f27bf9b4",
   "metadata": {},
   "outputs": [
    {
     "data": {
      "text/plain": [
       "tensor([9.9957e-01, 4.3119e-04])"
      ]
     },
     "execution_count": 60,
     "metadata": {},
     "output_type": "execute_result"
    }
   ],
   "source": [
    "probs"
   ]
  },
  {
   "cell_type": "code",
   "execution_count": 64,
   "id": "90bc34b5-6399-4fad-9851-05b24d81f36b",
   "metadata": {},
   "outputs": [],
   "source": [
    "dl = learn.dls.test_dl(df.iloc[:100])"
   ]
  },
  {
   "cell_type": "code",
   "execution_count": 68,
   "id": "2048db8b-9008-4695-8cff-47262e4d8d44",
   "metadata": {},
   "outputs": [
    {
     "data": {
      "text/html": [
       "\n",
       "<style>\n",
       "    /* Turns off some styling */\n",
       "    progress {\n",
       "        /* gets rid of default border in Firefox and Opera. */\n",
       "        border: none;\n",
       "        /* Needs to be in here for Safari polyfill so background images work as expected. */\n",
       "        background-size: auto;\n",
       "    }\n",
       "    progress:not([value]), progress:not([value])::-webkit-progress-bar {\n",
       "        background: repeating-linear-gradient(45deg, #7e7e7e, #7e7e7e 10px, #5c5c5c 10px, #5c5c5c 20px);\n",
       "    }\n",
       "    .progress-bar-interrupted, .progress-bar-interrupted::-webkit-progress-bar {\n",
       "        background: #F44336;\n",
       "    }\n",
       "</style>\n"
      ],
      "text/plain": [
       "<IPython.core.display.HTML object>"
      ]
     },
     "metadata": {},
     "output_type": "display_data"
    },
    {
     "data": {
      "text/html": [],
      "text/plain": [
       "<IPython.core.display.HTML object>"
      ]
     },
     "metadata": {},
     "output_type": "display_data"
    },
    {
     "data": {
      "text/plain": [
       "(#2) [0.017552612349390984,1.0]"
      ]
     },
     "execution_count": 68,
     "metadata": {},
     "output_type": "execute_result"
    }
   ],
   "source": [
    "# Call Validate to see how well the model does\n",
    "learn.validate(dl=dl)"
   ]
  },
  {
   "cell_type": "code",
   "execution_count": 69,
   "id": "66f67d5a-7759-437a-884f-5f0e0c36ba00",
   "metadata": {},
   "outputs": [
    {
     "data": {
      "text/html": [
       "\n",
       "<style>\n",
       "    /* Turns off some styling */\n",
       "    progress {\n",
       "        /* gets rid of default border in Firefox and Opera. */\n",
       "        border: none;\n",
       "        /* Needs to be in here for Safari polyfill so background images work as expected. */\n",
       "        background-size: auto;\n",
       "    }\n",
       "    progress:not([value]), progress:not([value])::-webkit-progress-bar {\n",
       "        background: repeating-linear-gradient(45deg, #7e7e7e, #7e7e7e 10px, #5c5c5c 10px, #5c5c5c 20px);\n",
       "    }\n",
       "    .progress-bar-interrupted, .progress-bar-interrupted::-webkit-progress-bar {\n",
       "        background: #F44336;\n",
       "    }\n",
       "</style>\n"
      ],
      "text/plain": [
       "<IPython.core.display.HTML object>"
      ]
     },
     "metadata": {},
     "output_type": "display_data"
    },
    {
     "data": {
      "text/html": [],
      "text/plain": [
       "<IPython.core.display.HTML object>"
      ]
     },
     "metadata": {},
     "output_type": "display_data"
    }
   ],
   "source": [
    "preds = learn.get_preds(dl=dl)"
   ]
  },
  {
   "cell_type": "code",
   "execution_count": 71,
   "id": "a2315135-311e-4e43-a830-1ef13de6686d",
   "metadata": {},
   "outputs": [
    {
     "data": {
      "text/plain": [
       "tensor([9.9957e-01, 4.3119e-04])"
      ]
     },
     "execution_count": 71,
     "metadata": {},
     "output_type": "execute_result"
    }
   ],
   "source": [
    "preds[0][0]"
   ]
  },
  {
   "cell_type": "code",
   "execution_count": null,
   "id": "9bcba368-a437-4170-bfea-bd2653bb9b3d",
   "metadata": {},
   "outputs": [],
   "source": []
  }
 ],
 "metadata": {
  "kernelspec": {
   "display_name": "Python 3 (ipykernel)",
   "language": "python",
   "name": "python3"
  },
  "language_info": {
   "codemirror_mode": {
    "name": "ipython",
    "version": 3
   },
   "file_extension": ".py",
   "mimetype": "text/x-python",
   "name": "python",
   "nbconvert_exporter": "python",
   "pygments_lexer": "ipython3",
   "version": "3.10.4"
  }
 },
 "nbformat": 4,
 "nbformat_minor": 5
}
